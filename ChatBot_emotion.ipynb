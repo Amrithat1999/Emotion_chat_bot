{
  "nbformat": 4,
  "nbformat_minor": 0,
  "metadata": {
    "colab": {
      "name": "ChatBot_emotion.ipynb",
      "provenance": [],
      "collapsed_sections": []
    },
    "kernelspec": {
      "name": "python3",
      "display_name": "Python 3"
    },
    "language_info": {
      "name": "python"
    },
    "accelerator": "GPU"
  },
  "cells": [
    {
      "cell_type": "code",
      "execution_count": null,
      "metadata": {
        "colab": {
          "base_uri": "https://localhost:8080/"
        },
        "id": "uVy3RmdkxTc8",
        "outputId": "24a1d2f2-7d1d-41b1-e77b-997f0de4502c"
      },
      "outputs": [
        {
          "output_type": "stream",
          "name": "stdout",
          "text": [
            "[nltk_data] Downloading package wordnet to /root/nltk_data...\n",
            "[nltk_data]   Unzipping corpora/wordnet.zip.\n"
          ]
        },
        {
          "output_type": "execute_result",
          "data": {
            "text/plain": [
              "True"
            ]
          },
          "metadata": {},
          "execution_count": 1
        }
      ],
      "source": [
        "import numpy as np\n",
        "import nltk\n",
        "from nltk.stem import WordNetLemmatizer\n",
        "import pandas as pd\n",
        "from tensorflow.keras.utils import to_categorical\n",
        "import string\n",
        "import re\n",
        "from keras.preprocessing.text import Tokenizer\n",
        "from nltk.corpus import stopwords\n",
        "nltk.download('wordnet')"
      ]
    },
    {
      "cell_type": "code",
      "source": [
        "from google.colab import drive\n",
        "drive.mount('/content/drive')"
      ],
      "metadata": {
        "colab": {
          "base_uri": "https://localhost:8080/"
        },
        "id": "VcrYbjfI_8FS",
        "outputId": "ff8ac412-f2f1-4a1f-fc05-039fcf81d583"
      },
      "execution_count": null,
      "outputs": [
        {
          "output_type": "stream",
          "name": "stdout",
          "text": [
            "Mounted at /content/drive\n"
          ]
        }
      ]
    },
    {
      "cell_type": "code",
      "source": [
        "nltk.download('punkt')"
      ],
      "metadata": {
        "colab": {
          "base_uri": "https://localhost:8080/"
        },
        "id": "xhwfNOW1xWiS",
        "outputId": "ea03ae0e-124a-4f2c-b4d4-485371dc801c"
      },
      "execution_count": null,
      "outputs": [
        {
          "output_type": "stream",
          "name": "stdout",
          "text": [
            "[nltk_data] Downloading package punkt to /root/nltk_data...\n",
            "[nltk_data]   Unzipping tokenizers/punkt.zip.\n"
          ]
        },
        {
          "output_type": "execute_result",
          "data": {
            "text/plain": [
              "True"
            ]
          },
          "metadata": {},
          "execution_count": 3
        }
      ]
    },
    {
      "cell_type": "code",
      "source": [
        "data=pd.read_csv(\"/content/drive/MyDrive/emotions.txt\",header=None,sep=';',names=['Text','Sentiments'])\n",
        "data"
      ],
      "metadata": {
        "colab": {
          "base_uri": "https://localhost:8080/",
          "height": 424
        },
        "id": "Hx68EsgLxkKF",
        "outputId": "e90c07ed-7a40-4f5f-d9c2-991b77bb3ae4"
      },
      "execution_count": null,
      "outputs": [
        {
          "output_type": "execute_result",
          "data": {
            "text/plain": [
              "                                                  Text Sentiments\n",
              "0    im feeling rather rotten so im not very ambiti...    sadness\n",
              "1            im updating my blog because i feel shitty    sadness\n",
              "2    i never make her separate from me because i do...    sadness\n",
              "3    i left with my bouquet of red and yellow tulip...        joy\n",
              "4      i was feeling a little vain when i did this one    sadness\n",
              "..                                                 ...        ...\n",
              "980  im not sure how i feel more than anything im k...        joy\n",
              "981                    i also feel lethargic and again    sadness\n",
              "982  im feeling somewhat nostalgic about the game j...       love\n",
              "983  i don t feel like i should be punished to carr...    sadness\n",
              "984  i was feeling like i said humour gets me through         NaN\n",
              "\n",
              "[985 rows x 2 columns]"
            ],
            "text/html": [
              "\n",
              "  <div id=\"df-c64d616b-d2a6-489e-a7ac-d900ab144652\">\n",
              "    <div class=\"colab-df-container\">\n",
              "      <div>\n",
              "<style scoped>\n",
              "    .dataframe tbody tr th:only-of-type {\n",
              "        vertical-align: middle;\n",
              "    }\n",
              "\n",
              "    .dataframe tbody tr th {\n",
              "        vertical-align: top;\n",
              "    }\n",
              "\n",
              "    .dataframe thead th {\n",
              "        text-align: right;\n",
              "    }\n",
              "</style>\n",
              "<table border=\"1\" class=\"dataframe\">\n",
              "  <thead>\n",
              "    <tr style=\"text-align: right;\">\n",
              "      <th></th>\n",
              "      <th>Text</th>\n",
              "      <th>Sentiments</th>\n",
              "    </tr>\n",
              "  </thead>\n",
              "  <tbody>\n",
              "    <tr>\n",
              "      <th>0</th>\n",
              "      <td>im feeling rather rotten so im not very ambiti...</td>\n",
              "      <td>sadness</td>\n",
              "    </tr>\n",
              "    <tr>\n",
              "      <th>1</th>\n",
              "      <td>im updating my blog because i feel shitty</td>\n",
              "      <td>sadness</td>\n",
              "    </tr>\n",
              "    <tr>\n",
              "      <th>2</th>\n",
              "      <td>i never make her separate from me because i do...</td>\n",
              "      <td>sadness</td>\n",
              "    </tr>\n",
              "    <tr>\n",
              "      <th>3</th>\n",
              "      <td>i left with my bouquet of red and yellow tulip...</td>\n",
              "      <td>joy</td>\n",
              "    </tr>\n",
              "    <tr>\n",
              "      <th>4</th>\n",
              "      <td>i was feeling a little vain when i did this one</td>\n",
              "      <td>sadness</td>\n",
              "    </tr>\n",
              "    <tr>\n",
              "      <th>...</th>\n",
              "      <td>...</td>\n",
              "      <td>...</td>\n",
              "    </tr>\n",
              "    <tr>\n",
              "      <th>980</th>\n",
              "      <td>im not sure how i feel more than anything im k...</td>\n",
              "      <td>joy</td>\n",
              "    </tr>\n",
              "    <tr>\n",
              "      <th>981</th>\n",
              "      <td>i also feel lethargic and again</td>\n",
              "      <td>sadness</td>\n",
              "    </tr>\n",
              "    <tr>\n",
              "      <th>982</th>\n",
              "      <td>im feeling somewhat nostalgic about the game j...</td>\n",
              "      <td>love</td>\n",
              "    </tr>\n",
              "    <tr>\n",
              "      <th>983</th>\n",
              "      <td>i don t feel like i should be punished to carr...</td>\n",
              "      <td>sadness</td>\n",
              "    </tr>\n",
              "    <tr>\n",
              "      <th>984</th>\n",
              "      <td>i was feeling like i said humour gets me through</td>\n",
              "      <td>NaN</td>\n",
              "    </tr>\n",
              "  </tbody>\n",
              "</table>\n",
              "<p>985 rows × 2 columns</p>\n",
              "</div>\n",
              "      <button class=\"colab-df-convert\" onclick=\"convertToInteractive('df-c64d616b-d2a6-489e-a7ac-d900ab144652')\"\n",
              "              title=\"Convert this dataframe to an interactive table.\"\n",
              "              style=\"display:none;\">\n",
              "        \n",
              "  <svg xmlns=\"http://www.w3.org/2000/svg\" height=\"24px\"viewBox=\"0 0 24 24\"\n",
              "       width=\"24px\">\n",
              "    <path d=\"M0 0h24v24H0V0z\" fill=\"none\"/>\n",
              "    <path d=\"M18.56 5.44l.94 2.06.94-2.06 2.06-.94-2.06-.94-.94-2.06-.94 2.06-2.06.94zm-11 1L8.5 8.5l.94-2.06 2.06-.94-2.06-.94L8.5 2.5l-.94 2.06-2.06.94zm10 10l.94 2.06.94-2.06 2.06-.94-2.06-.94-.94-2.06-.94 2.06-2.06.94z\"/><path d=\"M17.41 7.96l-1.37-1.37c-.4-.4-.92-.59-1.43-.59-.52 0-1.04.2-1.43.59L10.3 9.45l-7.72 7.72c-.78.78-.78 2.05 0 2.83L4 21.41c.39.39.9.59 1.41.59.51 0 1.02-.2 1.41-.59l7.78-7.78 2.81-2.81c.8-.78.8-2.07 0-2.86zM5.41 20L4 18.59l7.72-7.72 1.47 1.35L5.41 20z\"/>\n",
              "  </svg>\n",
              "      </button>\n",
              "      \n",
              "  <style>\n",
              "    .colab-df-container {\n",
              "      display:flex;\n",
              "      flex-wrap:wrap;\n",
              "      gap: 12px;\n",
              "    }\n",
              "\n",
              "    .colab-df-convert {\n",
              "      background-color: #E8F0FE;\n",
              "      border: none;\n",
              "      border-radius: 50%;\n",
              "      cursor: pointer;\n",
              "      display: none;\n",
              "      fill: #1967D2;\n",
              "      height: 32px;\n",
              "      padding: 0 0 0 0;\n",
              "      width: 32px;\n",
              "    }\n",
              "\n",
              "    .colab-df-convert:hover {\n",
              "      background-color: #E2EBFA;\n",
              "      box-shadow: 0px 1px 2px rgba(60, 64, 67, 0.3), 0px 1px 3px 1px rgba(60, 64, 67, 0.15);\n",
              "      fill: #174EA6;\n",
              "    }\n",
              "\n",
              "    [theme=dark] .colab-df-convert {\n",
              "      background-color: #3B4455;\n",
              "      fill: #D2E3FC;\n",
              "    }\n",
              "\n",
              "    [theme=dark] .colab-df-convert:hover {\n",
              "      background-color: #434B5C;\n",
              "      box-shadow: 0px 1px 3px 1px rgba(0, 0, 0, 0.15);\n",
              "      filter: drop-shadow(0px 1px 2px rgba(0, 0, 0, 0.3));\n",
              "      fill: #FFFFFF;\n",
              "    }\n",
              "  </style>\n",
              "\n",
              "      <script>\n",
              "        const buttonEl =\n",
              "          document.querySelector('#df-c64d616b-d2a6-489e-a7ac-d900ab144652 button.colab-df-convert');\n",
              "        buttonEl.style.display =\n",
              "          google.colab.kernel.accessAllowed ? 'block' : 'none';\n",
              "\n",
              "        async function convertToInteractive(key) {\n",
              "          const element = document.querySelector('#df-c64d616b-d2a6-489e-a7ac-d900ab144652');\n",
              "          const dataTable =\n",
              "            await google.colab.kernel.invokeFunction('convertToInteractive',\n",
              "                                                     [key], {});\n",
              "          if (!dataTable) return;\n",
              "\n",
              "          const docLinkHtml = 'Like what you see? Visit the ' +\n",
              "            '<a target=\"_blank\" href=https://colab.research.google.com/notebooks/data_table.ipynb>data table notebook</a>'\n",
              "            + ' to learn more about interactive tables.';\n",
              "          element.innerHTML = '';\n",
              "          dataTable['output_type'] = 'display_data';\n",
              "          await google.colab.output.renderOutput(dataTable, element);\n",
              "          const docLink = document.createElement('div');\n",
              "          docLink.innerHTML = docLinkHtml;\n",
              "          element.appendChild(docLink);\n",
              "        }\n",
              "      </script>\n",
              "    </div>\n",
              "  </div>\n",
              "  "
            ]
          },
          "metadata": {},
          "execution_count": 4
        }
      ]
    },
    {
      "cell_type": "code",
      "source": [
        "data=data.dropna()\n",
        "data.shape"
      ],
      "metadata": {
        "colab": {
          "base_uri": "https://localhost:8080/"
        },
        "id": "grDCYFDLxkFc",
        "outputId": "a885e19c-33ba-45be-8414-659fe03bd926"
      },
      "execution_count": null,
      "outputs": [
        {
          "output_type": "execute_result",
          "data": {
            "text/plain": [
              "(984, 2)"
            ]
          },
          "metadata": {},
          "execution_count": 5
        }
      ]
    },
    {
      "cell_type": "code",
      "source": [
        "data['Sentiments'].unique()"
      ],
      "metadata": {
        "colab": {
          "base_uri": "https://localhost:8080/"
        },
        "id": "2uJOhWjLxkAt",
        "outputId": "e547301e-9df8-4fda-88a8-974ecb6c797b"
      },
      "execution_count": null,
      "outputs": [
        {
          "output_type": "execute_result",
          "data": {
            "text/plain": [
              "array(['sadness', 'joy', 'fear', 'anger', 'love', 'surprise'],\n",
              "      dtype=object)"
            ]
          },
          "metadata": {},
          "execution_count": 6
        }
      ]
    },
    {
      "cell_type": "code",
      "source": [
        "data['Sentiments']=data.Sentiments.replace({'sadness':0,'joy':1,'love':2,'anger':3,'surprise':4,'fear':5})"
      ],
      "metadata": {
        "colab": {
          "base_uri": "https://localhost:8080/"
        },
        "id": "MeKCno_Uxj3x",
        "outputId": "8182ecb6-8ded-4c9b-8db6-85484cf13dcf"
      },
      "execution_count": null,
      "outputs": [
        {
          "output_type": "stream",
          "name": "stderr",
          "text": [
            "/usr/local/lib/python3.7/dist-packages/ipykernel_launcher.py:1: SettingWithCopyWarning: \n",
            "A value is trying to be set on a copy of a slice from a DataFrame.\n",
            "Try using .loc[row_indexer,col_indexer] = value instead\n",
            "\n",
            "See the caveats in the documentation: https://pandas.pydata.org/pandas-docs/stable/user_guide/indexing.html#returning-a-view-versus-a-copy\n",
            "  \"\"\"Entry point for launching an IPython kernel.\n"
          ]
        }
      ]
    },
    {
      "cell_type": "code",
      "source": [
        "from tensorflow.keras.losses import CategoricalCrossentropy\n",
        "from tensorflow.keras.optimizers import Adam\n",
        "from keras.preprocessing.text import Tokenizer\n",
        "from keras.preprocessing.sequence import pad_sequences"
      ],
      "metadata": {
        "id": "o2k1mh7CxjpG"
      },
      "execution_count": null,
      "outputs": []
    },
    {
      "cell_type": "code",
      "source": [
        "X=data['Text']"
      ],
      "metadata": {
        "id": "F9H5MneDyWeL"
      },
      "execution_count": null,
      "outputs": []
    },
    {
      "cell_type": "code",
      "source": [
        "tokenizer=Tokenizer(15212,lower=True,oov_token='UNK')"
      ],
      "metadata": {
        "id": "ruHyk7cxyIp2"
      },
      "execution_count": null,
      "outputs": []
    },
    {
      "cell_type": "code",
      "source": [
        "tokenizer.fit_on_texts(X)"
      ],
      "metadata": {
        "id": "pe0oxclpyKA5"
      },
      "execution_count": null,
      "outputs": []
    },
    {
      "cell_type": "code",
      "source": [
        "X_train=tokenizer.texts_to_sequences(X)"
      ],
      "metadata": {
        "id": "NacCKRsEybQo"
      },
      "execution_count": null,
      "outputs": []
    },
    {
      "cell_type": "code",
      "source": [
        "\n",
        "X_train_paded=pad_sequences(X_train,maxlen=80,padding='pre')"
      ],
      "metadata": {
        "id": "thM4kPlJyi7t"
      },
      "execution_count": null,
      "outputs": []
    },
    {
      "cell_type": "code",
      "source": [
        "Y_train=data['Sentiments'].values"
      ],
      "metadata": {
        "id": "wVMbENOpzHi1"
      },
      "execution_count": null,
      "outputs": []
    },
    {
      "cell_type": "code",
      "source": [
        "Y_train_data=to_categorical(Y_train)"
      ],
      "metadata": {
        "id": "e3wUcgepzUGM"
      },
      "execution_count": null,
      "outputs": []
    },
    {
      "cell_type": "code",
      "source": [
        "# from sklearn.model_selection import train_test_split\n",
        "# xtrain,xtest,ytrain,ytest=train_test_split(X_train_paded,Y_train_data,test_size=0.2)\n",
        "                                          "
      ],
      "metadata": {
        "id": "yBabaF8zBkuR"
      },
      "execution_count": null,
      "outputs": []
    },
    {
      "cell_type": "code",
      "source": [
        "#xtrain.shape,xtest.shape,ytrain.shape,ytest.shape"
      ],
      "metadata": {
        "colab": {
          "base_uri": "https://localhost:8080/"
        },
        "id": "HB2txSexCGfX",
        "outputId": "ff9120aa-9456-485f-ede8-76c442e4920d"
      },
      "execution_count": null,
      "outputs": [
        {
          "output_type": "execute_result",
          "data": {
            "text/plain": [
              "((787, 80), (197, 80), (787, 6), (197, 6))"
            ]
          },
          "metadata": {},
          "execution_count": 34
        }
      ]
    },
    {
      "cell_type": "code",
      "source": [
        "from tensorflow.keras import Sequential\n",
        "from tensorflow.keras.layers import Dense,Flatten,Dropout,LSTM,Bidirectional\n",
        "from tensorflow.keras.layers import Embedding"
      ],
      "metadata": {
        "id": "d8Xy85A1zb4k"
      },
      "execution_count": null,
      "outputs": []
    },
    {
      "cell_type": "code",
      "source": [
        "model=Sequential()\n",
        "#(vocab_size,feature_size,input_shape(maxleng))\n",
        "model.add(Embedding(15212,64,input_length=80))\n",
        "model.add(Dropout(0.6))\n",
        "model.add(Bidirectional(LSTM(80,return_sequences=True)))\n",
        "model.add(Bidirectional(LSTM(160)))\n",
        "\n",
        "model.add(Dense(6,activation='softmax'))"
      ],
      "metadata": {
        "id": "aDTbmaTnzgtd"
      },
      "execution_count": null,
      "outputs": []
    },
    {
      "cell_type": "code",
      "source": [
        "model.summary()"
      ],
      "metadata": {
        "colab": {
          "base_uri": "https://localhost:8080/"
        },
        "id": "HyKI62fhzkVn",
        "outputId": "9bb6d8e5-34ea-4590-d772-152f9b16017d"
      },
      "execution_count": null,
      "outputs": [
        {
          "output_type": "stream",
          "name": "stdout",
          "text": [
            "Model: \"sequential\"\n",
            "_________________________________________________________________\n",
            " Layer (type)                Output Shape              Param #   \n",
            "=================================================================\n",
            " embedding (Embedding)       (None, 80, 64)            973568    \n",
            "                                                                 \n",
            " dropout (Dropout)           (None, 80, 64)            0         \n",
            "                                                                 \n",
            " bidirectional (Bidirectiona  (None, 80, 160)          92800     \n",
            " l)                                                              \n",
            "                                                                 \n",
            " bidirectional_1 (Bidirectio  (None, 320)              410880    \n",
            " nal)                                                            \n",
            "                                                                 \n",
            " dense (Dense)               (None, 6)                 1926      \n",
            "                                                                 \n",
            "=================================================================\n",
            "Total params: 1,479,174\n",
            "Trainable params: 1,479,174\n",
            "Non-trainable params: 0\n",
            "_________________________________________________________________\n"
          ]
        }
      ]
    },
    {
      "cell_type": "code",
      "source": [
        "model.compile(optimizer=Adam(),loss=CategoricalCrossentropy(),metrics=['accuracy'])"
      ],
      "metadata": {
        "id": "pDKda_j6z5uA"
      },
      "execution_count": null,
      "outputs": []
    },
    {
      "cell_type": "code",
      "source": [
        "model.fit(X_train_paded,Y_train_data,epochs=10)"
      ],
      "metadata": {
        "colab": {
          "base_uri": "https://localhost:8080/"
        },
        "id": "yJQ3Zge3znjR",
        "outputId": "2f190558-02f3-4c97-b35c-f1fc7659bf61"
      },
      "execution_count": null,
      "outputs": [
        {
          "output_type": "stream",
          "name": "stdout",
          "text": [
            "Epoch 1/10\n",
            "31/31 [==============================] - 3s 98ms/step - loss: 0.2806 - accuracy: 0.9106\n",
            "Epoch 2/10\n",
            "31/31 [==============================] - 3s 97ms/step - loss: 0.2802 - accuracy: 0.9004\n",
            "Epoch 3/10\n",
            "31/31 [==============================] - 3s 99ms/step - loss: 0.2185 - accuracy: 0.9289\n",
            "Epoch 4/10\n",
            "31/31 [==============================] - 3s 97ms/step - loss: 0.1693 - accuracy: 0.9370\n",
            "Epoch 5/10\n",
            "31/31 [==============================] - 3s 96ms/step - loss: 0.1544 - accuracy: 0.9482\n",
            "Epoch 6/10\n",
            "31/31 [==============================] - 3s 97ms/step - loss: 0.1424 - accuracy: 0.9441\n",
            "Epoch 7/10\n",
            "31/31 [==============================] - 3s 97ms/step - loss: 0.1119 - accuracy: 0.9654\n",
            "Epoch 8/10\n",
            "31/31 [==============================] - 3s 97ms/step - loss: 0.1036 - accuracy: 0.9675\n",
            "Epoch 9/10\n",
            "31/31 [==============================] - 3s 98ms/step - loss: 0.1542 - accuracy: 0.9451\n",
            "Epoch 10/10\n",
            "31/31 [==============================] - 3s 97ms/step - loss: 0.1166 - accuracy: 0.9634\n"
          ]
        },
        {
          "output_type": "execute_result",
          "data": {
            "text/plain": [
              "<keras.callbacks.History at 0x7ff6402cb490>"
            ]
          },
          "metadata": {},
          "execution_count": 22
        }
      ]
    },
    {
      "cell_type": "code",
      "source": [
        "def get_key(value):\n",
        "  dict={'sadness':0,'joy':1,'love':2,'anger':3,'surprise':4,'fear':5}\n",
        "  for i, j in dict.items():\n",
        "    if(j==value):\n",
        "      return i"
      ],
      "metadata": {
        "id": "WT05ljAw1EGV"
      },
      "execution_count": null,
      "outputs": []
    },
    {
      "cell_type": "code",
      "source": [
        "def predict(sentence):\n",
        "  pred_data=[]\n",
        "  pred_data.append(sentence)\n",
        "  # print(pred_data)\n",
        "  sentence_seq=tokenizer.texts_to_sequences(pred_data)\n",
        "  # print(sentence_seq)\n",
        "  padded_pred=pad_sequences(sentence_seq,maxlen=80,padding='pre')\n",
        "  predicted=model.predict(padded_pred)\n",
        "  results=np.argmax(predicted,axis=1)\n",
        "  result=get_key(results)\n",
        "  return result"
      ],
      "metadata": {
        "id": "hu9hf-dM17qN"
      },
      "execution_count": null,
      "outputs": []
    },
    {
      "cell_type": "code",
      "source": [
        "from IPython.display import  clear_output\n",
        "input_sentimentals=print(\"hi,What is your name \")\n",
        "user=input()\n",
        "input_sentimental=input(\"How are you feeling today \")\n",
        "result=predict(input_sentimental)\n",
        "if result==\"sadness\" or result=='Anger' or result=='fear':\n",
        "  print(\"What Happend \"+user+'?')\n",
        "  response=input()\n",
        "  print(\"Hey \"+user +\" I am here for you .Everyone has a hard time in their life at  some point we always hope\")\n",
        "  assistance=input(\"Do you need any assitance\")\n",
        "  if assistance=='n' or assistance=='no' or assistance=='No' or assistance=='N':\n",
        "    print(\"Bye,Bye \" + user + \" Have a nice Day\")\n",
        "  elif assistance=='y' or assistance=='yes' or assistance=='Y' or assistance=='Yes':\n",
        "    print(\"How can i help you\")\n",
        "    print(\"\\n\")\n",
        "    print(\"1.Do you want to talk with me\")\n",
        "    print(\"2.Do you want to listen music\")\n",
        "    response=input()\n",
        "    if response==\"1\":\n",
        "      print(\"tell me \"+user)\n",
        "    elif response==\"2\":\n",
        "\n",
        "      print(\"sa...ri..ga..ma...\")\n",
        "elif result==\"sad\":\n",
        "  print(\"Trying to avoid sadness is trying to avoid life\")\n",
        "  assistance=input(\"Do you need any assitance\")\n",
        "  if assistance=='n' or assistance=='no' or assistance=='No' or assistance=='N':\n",
        "    print(\"Bye,Bye \" + user + \" HAve a nice Day\")\n",
        "  elif assistance=='y' or assistance=='yes' or assistance=='Y' or assistance=='Yes':\n",
        "    print(\"How can i help you\")\n",
        "    print(\"\\n\")\n",
        "    print(\"1.Do you want talk with me\")\n",
        "    print(\"2.Do you want to listen music\")\n",
        "    response=input()\n",
        "    if response==\"1\":\n",
        "      print(\"tell me \"+user)\n",
        "    elif response==\"2\":\n",
        "\n",
        "      print(\"sa...ri..ga..ma...\")\n",
        "else: \n",
        "  print(\"oh \" + user + \" you are a happy person Bye friend\")"
      ],
      "metadata": {
        "colab": {
          "base_uri": "https://localhost:8080/"
        },
        "id": "JDLM5xa12PJz",
        "outputId": "c19e992d-d81a-4bd7-e9da-1086f6794bee"
      },
      "execution_count": null,
      "outputs": [
        {
          "output_type": "stream",
          "name": "stdout",
          "text": [
            "hi,What is your name \n",
            "amrita\n",
            "How are you feeling today feel sad\n",
            "What Happend amrita?\n",
            "i am breakup\n",
            "Hey amrita I am here for you .Everyone has a hard time in their life at  some point we always hope\n",
            "Do you need any assitanceyes\n",
            "How can i help you\n",
            "\n",
            "\n",
            "1.Do you want to talk with me\n",
            "2.Do you want to listen music\n",
            "1\n",
            "tell me amrita\n"
          ]
        }
      ]
    },
    {
      "cell_type": "code",
      "source": [
        ""
      ],
      "metadata": {
        "id": "KFTq2j_H3Ijj"
      },
      "execution_count": null,
      "outputs": []
    }
  ]
}